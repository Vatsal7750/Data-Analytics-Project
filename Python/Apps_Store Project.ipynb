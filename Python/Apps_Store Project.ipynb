{
 "cells": [
  {
   "cell_type": "markdown",
   "id": "5e081eb5",
   "metadata": {},
   "source": [
    "# Data Cleaning - Google Playstore and Apple Store"
   ]
  },
  {
   "cell_type": "markdown",
   "id": "9e0656d4",
   "metadata": {},
   "source": [
    "Main goal of the project is to clean the dataset and prepare it for visualising in PowerBI. \n",
    "The dataset contains appsname, apps_ratings, total_ratings, type, price, size, reviews and other attributes. For loops, conditional statements and dictionaries are used to create final tables for visualisation."
   ]
  },
  {
   "cell_type": "markdown",
   "id": "0f689484",
   "metadata": {},
   "source": [
    "Two datasets are imported in the Jupyter Notebook environment for cleaning. \n",
    "- A dataset [googlestore](https://www.kaggle.com/datasets/lava18/google-play-store-apps) containing data about approximately 10,000 Android apps from Google Play; the data was collected in August 2018.\n",
    "- A dataset [applestore](https://www.kaggle.com/datasets/ramamet4/app-store-apple-data-set-10k-apps) containing data about approximately 7,000 iOS apps from the App Store; the data was collected in July 2017."
   ]
  },
  {
   "cell_type": "markdown",
   "id": "de6dc067",
   "metadata": {},
   "source": [
    "#### Step 1: \n",
    "- Defining function `dataset` to import, read and convert csv file to list.\n",
    "- Defining function `explore_data` to explore the imported data with start and end values."
   ]
  },
  {
   "cell_type": "code",
   "execution_count": 1,
   "id": "e16d01d4",
   "metadata": {
    "scrolled": true
   },
   "outputs": [],
   "source": [
    "def dataset(file_name):\n",
    "    opened_file = open(file_name, encoding = \"utf8\")\n",
    "    from csv import reader\n",
    "    read_file = reader(opened_file)\n",
    "    list_file = list(read_file)\n",
    "    \n",
    "    return list_file\n",
    "    \n",
    "applestore = dataset('AppleStore.csv')\n",
    "googlestore = dataset('googleplaystore.csv')"
   ]
  },
  {
   "cell_type": "code",
   "execution_count": 2,
   "id": "d1b2b046",
   "metadata": {},
   "outputs": [],
   "source": [
    "def explore_data(list_file, start, end, rows_and_columns=False):\n",
    "    data_slice = list_file[start:end]\n",
    "    for row in data_slice[1:]:\n",
    "        print(row)\n",
    "        print('\\n') # adds and empty line after each row\n",
    "        \n",
    "    if rows_and_columns:\n",
    "        print('Number of rows:', len(list_file))\n",
    "        print('Number of columns:', len(list_file[0]))\n",
    "\n",
    "            \n",
    "    "
   ]
  },
  {
   "cell_type": "markdown",
   "id": "aa6ecfe7",
   "metadata": {},
   "source": [
    "Exploring the imported dataset - `applestore` and `googlestore`\n"
   ]
  },
  {
   "cell_type": "code",
   "execution_count": 3,
   "id": "71ef5197",
   "metadata": {
    "scrolled": true
   },
   "outputs": [
    {
     "name": "stdout",
     "output_type": "stream",
     "text": [
      "['284882215', 'Facebook', '389879808', 'USD', '0.0', '2974676', '212', '3.5', '3.5', '95.0', '4+', 'Social Networking', '37', '1', '29', '1']\n",
      "\n",
      "\n",
      "['389801252', 'Instagram', '113954816', 'USD', '0.0', '2161558', '1289', '4.5', '4.0', '10.23', '12+', 'Photo & Video', '37', '0', '29', '1']\n",
      "\n",
      "\n",
      "['529479190', 'Clash of Clans', '116476928', 'USD', '0.0', '2130805', '579', '4.5', '4.5', '9.24.12', '9+', 'Games', '38', '5', '18', '1']\n",
      "\n",
      "\n",
      "['420009108', 'Temple Run', '65921024', 'USD', '0.0', '1724546', '3842', '4.5', '4.0', '1.6.2', '9+', 'Games', '40', '5', '1', '1']\n",
      "\n",
      "\n",
      "Number of rows: 7198\n",
      "Number of columns: 16\n"
     ]
    }
   ],
   "source": [
    "apple_store = explore_data(applestore, 0, 5, True)"
   ]
  },
  {
   "cell_type": "code",
   "execution_count": 4,
   "id": "c9d2fc25",
   "metadata": {},
   "outputs": [
    {
     "name": "stdout",
     "output_type": "stream",
     "text": [
      "['Photo Editor & Candy Camera & Grid & ScrapBook', 'ART_AND_DESIGN', '4.1', '159', '19M', '10,000+', 'Free', '0', 'Everyone', 'Art & Design', 'January 7, 2018', '1.0.0', '4.0.3 and up']\n",
      "\n",
      "\n",
      "['Coloring book moana', 'ART_AND_DESIGN', '3.9', '967', '14M', '500,000+', 'Free', '0', 'Everyone', 'Art & Design;Pretend Play', 'January 15, 2018', '2.0.0', '4.0.3 and up']\n",
      "\n",
      "\n",
      "['U Launcher Lite – FREE Live Cool Themes, Hide Apps', 'ART_AND_DESIGN', '4.7', '87510', '8.7M', '5,000,000+', 'Free', '0', 'Everyone', 'Art & Design', 'August 1, 2018', '1.2.4', '4.0.3 and up']\n",
      "\n",
      "\n",
      "['Sketch - Draw & Paint', 'ART_AND_DESIGN', '4.5', '215644', '25M', '50,000,000+', 'Free', '0', 'Teen', 'Art & Design', 'June 8, 2018', 'Varies with device', '4.2 and up']\n",
      "\n",
      "\n",
      "Number of rows: 10842\n",
      "Number of columns: 13\n"
     ]
    }
   ],
   "source": [
    "google_store = explore_data(googlestore, 0, 5, True)"
   ]
  },
  {
   "cell_type": "markdown",
   "id": "383693db",
   "metadata": {},
   "source": [
    "#### Step 2:\n",
    "Finding out the row having missing value. To do so, I have compared the length of all the rows with the length of header of the dataset. The index position and length of the missing row is printed using `print` function."
   ]
  },
  {
   "cell_type": "code",
   "execution_count": 5,
   "id": "130cc83b",
   "metadata": {},
   "outputs": [
    {
     "name": "stdout",
     "output_type": "stream",
     "text": [
      "The length of header: 13 \n",
      "\n",
      "['Life Made WI-Fi Touchscreen Photo Frame', '1.9', '19', '3.0M', '1,000+', 'Free', '0', 'Everyone', '', 'February 11, 2018', '1.0.19', '4.0 and up'] \n",
      "\n",
      "The length of row: 12\n",
      "The index position: 10473\n"
     ]
    }
   ],
   "source": [
    "header = googlestore[0]\n",
    "\n",
    "for row in googlestore:\n",
    "    if len(row) != len(header):\n",
    "        print('The length of header:', len(header), '\\n')\n",
    "        print(row, '\\n')\n",
    "        print('The length of row:', len(row))\n",
    "        print('The index position:', googlestore.index(row))"
   ]
  },
  {
   "cell_type": "markdown",
   "id": "f5f2a063",
   "metadata": {},
   "source": [
    "#### Step 3:\n",
    "Deleting the row having missing value."
   ]
  },
  {
   "cell_type": "code",
   "execution_count": 6,
   "id": "69ba2060",
   "metadata": {},
   "outputs": [],
   "source": [
    "del googlestore[10473]"
   ]
  },
  {
   "cell_type": "markdown",
   "id": "639be5ea",
   "metadata": {},
   "source": [
    "In the next step I am going to examine the duplicate apps.\n",
    "> I will use two empty lists: `unique_apps` and `duplicate_apps` and append the list duplicate_apps if the name occurs more than once in the unique_apps, if not then we will append unique_apps."
   ]
  },
  {
   "cell_type": "code",
   "execution_count": 7,
   "id": "2d120bd4",
   "metadata": {},
   "outputs": [
    {
     "name": "stdout",
     "output_type": "stream",
     "text": [
      "Count of duplicate apps: 1181\n",
      "\n",
      "\n",
      "Some names of duplicate apps: ['Quick PDF Scanner + OCR FREE', 'Box', 'Google My Business', 'ZOOM Cloud Meetings', 'join.me - Simple Meetings', 'Box', 'Zenefits', 'Google Ads', 'Google My Business', 'Slack', 'FreshBooks Classic', 'Insightly CRM', 'QuickBooks Accounting: Invoicing & Expenses', 'HipChat - Chat Built for Teams', 'Xero Accounting Software']\n"
     ]
    }
   ],
   "source": [
    "duplicate_apps = []\n",
    "unique_apps = []\n",
    "\n",
    "for row in googlestore[1:]:\n",
    "    name = row[0]\n",
    "    if name in unique_apps:\n",
    "        duplicate_apps.append(name)\n",
    "    else:\n",
    "        unique_apps.append(name)\n",
    "    \n",
    "print('Count of duplicate apps:', len(duplicate_apps))\n",
    "print('\\n')\n",
    "print('Some names of duplicate apps:', duplicate_apps[:15])"
   ]
  },
  {
   "cell_type": "markdown",
   "id": "8b7b2adc",
   "metadata": {},
   "source": [
    "#### Step 4: \n",
    "Retaining the rows with highest `reviews`.\n",
    "> After running the `for` loop on the googlestore data I found 1181 apps which have duplicate values.\n",
    "I will discard duplicate values in the next step using the criterion of `reviews`. The rows with highest reviews will be retained and remaining will be discarded. "
   ]
  },
  {
   "cell_type": "code",
   "execution_count": 8,
   "id": "506b49d3",
   "metadata": {},
   "outputs": [],
   "source": [
    "reviews_max = {}\n",
    "\n",
    "for row in googlestore[1:]:\n",
    "    name = row[0]\n",
    "    n_reviews = float(row[3])\n",
    "    \n",
    "    if name in reviews_max and reviews_max[name] < n_reviews:\n",
    "        reviews_max[name] = n_reviews\n",
    "    elif name not in reviews_max:\n",
    "        reviews_max[name] = n_reviews\n"
   ]
  },
  {
   "cell_type": "markdown",
   "id": "770ef3d0",
   "metadata": {},
   "source": [
    "Verifying the length of the `reviews_max` dictionary by comparing it with the *expected length of the dictionary*."
   ]
  },
  {
   "cell_type": "code",
   "execution_count": 9,
   "id": "ee35a24d",
   "metadata": {},
   "outputs": [
    {
     "name": "stdout",
     "output_type": "stream",
     "text": [
      "Expected length of the dictionary: 9659\n",
      "9659\n"
     ]
    }
   ],
   "source": [
    "print('Expected length of the dictionary:', len(googlestore[1:]) - len(duplicate_apps))\n",
    "print(len(reviews_max))\n"
   ]
  },
  {
   "cell_type": "markdown",
   "id": "95ea4ad2",
   "metadata": {},
   "source": [
    "#### Step 5:\n",
    "Creating a list `android_clean` to store the cleaned dataset. `If` condition statement is used to append the values in the `android_clean` list."
   ]
  },
  {
   "cell_type": "code",
   "execution_count": 10,
   "id": "c668f289",
   "metadata": {},
   "outputs": [],
   "source": [
    "android_clean = []\n",
    "already_added = []\n",
    "\n",
    "for row in googlestore[1:]:\n",
    "    name = row[0]\n",
    "    n_reviews = float(row[3])\n",
    "    \n",
    "    if (n_reviews == reviews_max[name]) and (name not in already_added):\n",
    "        android_clean.append(row)\n",
    "        already_added.append(name)\n",
    "    \n",
    "    \n"
   ]
  },
  {
   "cell_type": "markdown",
   "id": "f3a55904",
   "metadata": {},
   "source": [
    "\n",
    "Printing the length of the `android_clean` dataset to verify the unique values in it."
   ]
  },
  {
   "cell_type": "code",
   "execution_count": 11,
   "id": "2cca89e0",
   "metadata": {},
   "outputs": [
    {
     "name": "stdout",
     "output_type": "stream",
     "text": [
      "9659\n"
     ]
    }
   ],
   "source": [
    "print(len(android_clean))"
   ]
  },
  {
   "cell_type": "markdown",
   "id": "332e6302",
   "metadata": {},
   "source": [
    "Trimming '$' sign from the price columns."
   ]
  },
  {
   "cell_type": "code",
   "execution_count": 12,
   "id": "c597b8f2",
   "metadata": {},
   "outputs": [
    {
     "name": "stdout",
     "output_type": "stream",
     "text": [
      "[['TurboScan: scan documents and receipts in PDF', 'BUSINESS', '4.7', '11442', '6.8M', '100,000+', 'Paid', '4.99', 'Everyone', 'Business', 'March 25, 2018', '1.5.2', '4.0 and up'], ['Tiny Scanner Pro: PDF Doc Scan', 'BUSINESS', '4.8', '10295', '39M', '100,000+', 'Paid', '4.99', 'Everyone', 'Business', 'April 11, 2017', '3.4.6', '3.0 and up'], ['Zenefits', 'BUSINESS', '4.2', '296', '14M', '50,000+', 'Free', '0', 'Everyone', 'Business', 'June 15, 2018', '3.2.1', '4.1 and up']]\n"
     ]
    }
   ],
   "source": [
    "for row in android_clean:\n",
    "    price = row[7]\n",
    "    price = price.replace('$', '')\n",
    "    row[7] = price\n",
    "    \n",
    "print(android_clean[218:221])"
   ]
  },
  {
   "cell_type": "code",
   "execution_count": 13,
   "id": "9caa6535",
   "metadata": {
    "scrolled": false
   },
   "outputs": [
    {
     "name": "stdout",
     "output_type": "stream",
     "text": [
      "['U Launcher Lite – FREE Live Cool Themes, Hide Apps', 'ART_AND_DESIGN', '4.7', '87510', '8.7M', '5,000,000+', 'Free', '0', 'Everyone', 'Art & Design', 'August 1, 2018', '1.2.4', '4.0.3 and up']\n",
      "\n",
      "\n",
      "['Sketch - Draw & Paint', 'ART_AND_DESIGN', '4.5', '215644', '25M', '50,000,000+', 'Free', '0', 'Teen', 'Art & Design', 'June 8, 2018', 'Varies with device', '4.2 and up']\n",
      "\n",
      "\n",
      "['Pixel Draw - Number Art Coloring Book', 'ART_AND_DESIGN', '4.3', '967', '2.8M', '100,000+', 'Free', '0', 'Everyone', 'Art & Design;Creativity', 'June 20, 2018', '1.1', '4.4 and up']\n",
      "\n",
      "\n",
      "['Paper flowers instructions', 'ART_AND_DESIGN', '4.4', '167', '5.6M', '50,000+', 'Free', '0', 'Everyone', 'Art & Design', 'March 26, 2017', '1.0', '2.3 and up']\n",
      "\n",
      "\n",
      "Number of rows: 9659\n",
      "Number of columns: 13\n"
     ]
    }
   ],
   "source": [
    "explore_data(android_clean, 0,5, True)"
   ]
  },
  {
   "cell_type": "markdown",
   "id": "440f48fa",
   "metadata": {},
   "source": [
    "#### Step 6:\n",
    "Discarding the apps in languages other than English. "
   ]
  },
  {
   "cell_type": "markdown",
   "id": "bd214a71",
   "metadata": {},
   "source": [
    "> To retain English apps I have used the ascii value of the characters. Almost all the english characters have ascii value less than 127, using this condition I have filtered the English apps from other languages. \n",
    "However, looking at some of the English apps having special symbols in its name, an exception of 3 non-ascii characters is made and apps having non-ascii value less than or equal to 3 are considered in the clean dataset.  "
   ]
  },
  {
   "cell_type": "code",
   "execution_count": 14,
   "id": "23ae6e30",
   "metadata": {},
   "outputs": [
    {
     "name": "stdout",
     "output_type": "stream",
     "text": [
      "True\n",
      "False\n",
      "True\n"
     ]
    }
   ],
   "source": [
    "def english(value):\n",
    "    non_ascii = 0\n",
    "    for char in value:\n",
    "        if ord(char) > 127:\n",
    "            non_ascii += 1\n",
    "        \n",
    "    if non_ascii > 3:\n",
    "        return False\n",
    "    else:\n",
    "        return True\n",
    "\n",
    "print(english('Instagram'))\n",
    "print(english('爱奇艺PPS -《欢乐颂2》电视剧热播'))\n",
    "print(english('Docs To Go™ Free Office Suite'))"
   ]
  },
  {
   "cell_type": "markdown",
   "id": "44685558",
   "metadata": {},
   "source": [
    "#### Step 7:\n",
    "Two lists `googlestore_clean_english` and `applestore_clean_english` are appended to create the clean dataset for visualisation. The defined function `english` is used to retain the english apps and append it into the lists."
   ]
  },
  {
   "cell_type": "code",
   "execution_count": 15,
   "id": "7c2df11a",
   "metadata": {},
   "outputs": [],
   "source": [
    "googlestore_clean_english = []\n",
    "applestore_clean_english = []\n",
    "\n",
    "for row in android_clean:\n",
    "    name = row[0]\n",
    "    \n",
    "    if english(name):\n",
    "        googlestore_clean_english.append(row)\n",
    "        \n",
    "for row in applestore:\n",
    "    name = row[1]\n",
    "    \n",
    "    if english(name):\n",
    "        applestore_clean_english.append(row)\n"
   ]
  },
  {
   "cell_type": "markdown",
   "id": "11c196fb",
   "metadata": {},
   "source": [
    "**Printng first 3 rows of the clean dataset.**"
   ]
  },
  {
   "cell_type": "code",
   "execution_count": 16,
   "id": "6c8284cd",
   "metadata": {
    "scrolled": true
   },
   "outputs": [
    {
     "name": "stdout",
     "output_type": "stream",
     "text": [
      "[['Photo Editor & Candy Camera & Grid & ScrapBook', 'ART_AND_DESIGN', '4.1', '159', '19M', '10,000+', 'Free', '0', 'Everyone', 'Art & Design', 'January 7, 2018', '1.0.0', '4.0.3 and up'], ['U Launcher Lite – FREE Live Cool Themes, Hide Apps', 'ART_AND_DESIGN', '4.7', '87510', '8.7M', '5,000,000+', 'Free', '0', 'Everyone', 'Art & Design', 'August 1, 2018', '1.2.4', '4.0.3 and up'], ['Sketch - Draw & Paint', 'ART_AND_DESIGN', '4.5', '215644', '25M', '50,000,000+', 'Free', '0', 'Teen', 'Art & Design', 'June 8, 2018', 'Varies with device', '4.2 and up']]\n"
     ]
    }
   ],
   "source": [
    "print(googlestore_clean_english[:3])"
   ]
  },
  {
   "cell_type": "code",
   "execution_count": 17,
   "id": "2c9f1037",
   "metadata": {},
   "outputs": [
    {
     "name": "stdout",
     "output_type": "stream",
     "text": [
      "[['id', 'track_name', 'size_bytes', 'currency', 'price', 'rating_count_tot', 'rating_count_ver', 'user_rating', 'user_rating_ver', 'ver', 'cont_rating', 'prime_genre', 'sup_devices.num', 'ipadSc_urls.num', 'lang.num', 'vpp_lic'], ['284882215', 'Facebook', '389879808', 'USD', '0.0', '2974676', '212', '3.5', '3.5', '95.0', '4+', 'Social Networking', '37', '1', '29', '1'], ['389801252', 'Instagram', '113954816', 'USD', '0.0', '2161558', '1289', '4.5', '4.0', '10.23', '12+', 'Photo & Video', '37', '0', '29', '1']]\n"
     ]
    }
   ],
   "source": [
    "print(applestore_clean_english[:3])"
   ]
  },
  {
   "cell_type": "markdown",
   "id": "b75949cf",
   "metadata": {},
   "source": [
    "Importing Numpy and Pandas Library to convert the list into csv file for visualising the data."
   ]
  },
  {
   "cell_type": "code",
   "execution_count": 18,
   "id": "844807bd",
   "metadata": {},
   "outputs": [],
   "source": [
    "import numpy as np\n",
    "import pandas as pd\n",
    "\n",
    "arr = np.array(googlestore_clean_english)\n",
    "DF = pd.DataFrame(arr)\n",
    "DF.to_csv(\"Googlestore_final.csv\")\n",
    "\n",
    "arr_1 = np.array(applestore_clean_english)\n",
    "DF = pd.DataFrame(arr_1)\n",
    "DF.to_csv(\"Applestore_final.csv\")\n"
   ]
  },
  {
   "cell_type": "markdown",
   "id": "520cd309",
   "metadata": {},
   "source": [
    "## Using the clean data to further analyze the profitable free apps."
   ]
  },
  {
   "cell_type": "code",
   "execution_count": 19,
   "id": "73d81b7a",
   "metadata": {
    "scrolled": true
   },
   "outputs": [
    {
     "name": "stdout",
     "output_type": "stream",
     "text": [
      "9614\n",
      "6184\n"
     ]
    }
   ],
   "source": [
    "print(len(googlestore_clean_english))\n",
    "print(len(applestore_clean_english))"
   ]
  },
  {
   "cell_type": "markdown",
   "id": "b0545c61",
   "metadata": {},
   "source": [
    "#### Step 1:\n",
    "\n",
    "In this step the dataset is further filtered to retain the apps which are free."
   ]
  },
  {
   "cell_type": "code",
   "execution_count": 20,
   "id": "f899671c",
   "metadata": {},
   "outputs": [],
   "source": [
    "googlestore_final = []\n",
    "applestore_final = []\n",
    "\n",
    "for row in googlestore_clean_english:\n",
    "    price = row[7]\n",
    "    \n",
    "    if price == '0':\n",
    "        googlestore_final.append(row)\n",
    "\n",
    "for row in applestore_clean_english[1:]:\n",
    "    price = row[4]\n",
    "    \n",
    "    if price == '0.0':\n",
    "        applestore_final.append(row)\n"
   ]
  },
  {
   "cell_type": "code",
   "execution_count": 21,
   "id": "560d2355",
   "metadata": {},
   "outputs": [
    {
     "name": "stdout",
     "output_type": "stream",
     "text": [
      "['U Launcher Lite – FREE Live Cool Themes, Hide Apps', 'ART_AND_DESIGN', '4.7', '87510', '8.7M', '5,000,000+', 'Free', '0', 'Everyone', 'Art & Design', 'August 1, 2018', '1.2.4', '4.0.3 and up']\n",
      "\n",
      "\n",
      "['Sketch - Draw & Paint', 'ART_AND_DESIGN', '4.5', '215644', '25M', '50,000,000+', 'Free', '0', 'Teen', 'Art & Design', 'June 8, 2018', 'Varies with device', '4.2 and up']\n",
      "\n",
      "\n",
      "['Pixel Draw - Number Art Coloring Book', 'ART_AND_DESIGN', '4.3', '967', '2.8M', '100,000+', 'Free', '0', 'Everyone', 'Art & Design;Creativity', 'June 20, 2018', '1.1', '4.4 and up']\n",
      "\n",
      "\n",
      "['Paper flowers instructions', 'ART_AND_DESIGN', '4.4', '167', '5.6M', '50,000+', 'Free', '0', 'Everyone', 'Art & Design', 'March 26, 2017', '1.0', '2.3 and up']\n",
      "\n",
      "\n",
      "Number of rows: 8864\n",
      "Number of columns: 13\n",
      "\n",
      "\n",
      "['389801252', 'Instagram', '113954816', 'USD', '0.0', '2161558', '1289', '4.5', '4.0', '10.23', '12+', 'Photo & Video', '37', '0', '29', '1']\n",
      "\n",
      "\n",
      "['529479190', 'Clash of Clans', '116476928', 'USD', '0.0', '2130805', '579', '4.5', '4.5', '9.24.12', '9+', 'Games', '38', '5', '18', '1']\n",
      "\n",
      "\n",
      "['420009108', 'Temple Run', '65921024', 'USD', '0.0', '1724546', '3842', '4.5', '4.0', '1.6.2', '9+', 'Games', '40', '5', '1', '1']\n",
      "\n",
      "\n",
      "['284035177', 'Pandora - Music & Radio', '130242560', 'USD', '0.0', '1126879', '3594', '4.0', '4.5', '8.4.1', '12+', 'Music', '37', '4', '1', '1']\n",
      "\n",
      "\n",
      "Number of rows: 3222\n",
      "Number of columns: 16\n"
     ]
    }
   ],
   "source": [
    "explore_data(googlestore_final,0,5,True)\n",
    "print('\\n')\n",
    "explore_data(applestore_final,0,5,True)"
   ]
  },
  {
   "cell_type": "markdown",
   "id": "ccf7c321",
   "metadata": {},
   "source": [
    "#### Step 2:\n",
    "\n",
    "**Defining two functions `freq_table` and `display_table`.**\n",
    "\n",
    "- `Freq_table` function is used to create a percentage frequency table.\n",
    "- `display_table` function is used to create a tuple to display the frequency of index of the dataset and sorting it in descending order."
   ]
  },
  {
   "cell_type": "code",
   "execution_count": 22,
   "id": "b4414894",
   "metadata": {},
   "outputs": [],
   "source": [
    "def freq_table(dataset, index):\n",
    "    table = {}\n",
    "    total = 0\n",
    "    \n",
    "    for row in dataset:\n",
    "        total += 1\n",
    "        value = row[index]\n",
    "        \n",
    "        if value in table:\n",
    "            table[value] += 1\n",
    "        else:\n",
    "            table[value] = 1\n",
    "            \n",
    "    table_per = {}\n",
    "    \n",
    "    for row in table:\n",
    "        percentage = (table[row] / total) * 100\n",
    "        table_per[row] = percentage\n",
    "        \n",
    "    return table_per\n",
    "\n",
    "def display_table(dataset, index):\n",
    "    table = freq_table(dataset, index)\n",
    "    table_display = []\n",
    "    for key in table:\n",
    "        key_val_as_tuple = (table[key], key)\n",
    "        table_display.append(key_val_as_tuple)\n",
    "\n",
    "    table_sorted = sorted(table_display, reverse = True)\n",
    "    for entry in table_sorted:\n",
    "        print(entry[1], ':', entry[0])"
   ]
  },
  {
   "cell_type": "markdown",
   "id": "94b14f9a",
   "metadata": {},
   "source": [
    "## Most Common Free Apps by Genre"
   ]
  },
  {
   "cell_type": "markdown",
   "id": "89eb7679",
   "metadata": {},
   "source": [
    "Displaying the frequency table of `Genre` from the googlestore_final list."
   ]
  },
  {
   "cell_type": "code",
   "execution_count": 23,
   "id": "dbabac6a",
   "metadata": {
    "scrolled": true
   },
   "outputs": [
    {
     "name": "stdout",
     "output_type": "stream",
     "text": [
      "Tools : 8.449909747292418\n",
      "Entertainment : 6.069494584837545\n",
      "Education : 5.347472924187725\n",
      "Business : 4.591606498194946\n",
      "Productivity : 3.892148014440433\n",
      "Lifestyle : 3.892148014440433\n",
      "Finance : 3.7003610108303246\n",
      "Medical : 3.531137184115524\n",
      "Sports : 3.463447653429603\n",
      "Personalization : 3.3167870036101084\n",
      "Communication : 3.2378158844765346\n",
      "Action : 3.1024368231046933\n",
      "Health & Fitness : 3.0798736462093865\n",
      "Photography : 2.944494584837545\n",
      "News & Magazines : 2.7978339350180503\n",
      "Social : 2.6624548736462095\n",
      "Travel & Local : 2.3240072202166067\n",
      "Shopping : 2.2450361010830324\n",
      "Books & Reference : 2.1435018050541514\n",
      "Simulation : 2.0419675090252705\n",
      "Dating : 1.861462093862816\n",
      "Arcade : 1.8501805054151623\n",
      "Video Players & Editors : 1.7712093862815883\n",
      "Casual : 1.7599277978339352\n",
      "Maps & Navigation : 1.3989169675090252\n",
      "Food & Drink : 1.2409747292418771\n",
      "Puzzle : 1.128158844765343\n",
      "Racing : 0.9927797833935018\n",
      "Role Playing : 0.9363718411552346\n",
      "Libraries & Demo : 0.9363718411552346\n",
      "Auto & Vehicles : 0.9250902527075812\n",
      "Strategy : 0.9138086642599278\n",
      "House & Home : 0.8235559566787004\n",
      "Weather : 0.8009927797833934\n",
      "Events : 0.7107400722021661\n",
      "Adventure : 0.6768953068592057\n",
      "Comics : 0.6092057761732852\n",
      "Beauty : 0.5979241877256317\n",
      "Art & Design : 0.5979241877256317\n",
      "Parenting : 0.4963898916967509\n",
      "Card : 0.45126353790613716\n",
      "Casino : 0.42870036101083037\n",
      "Trivia : 0.41741877256317694\n",
      "Educational;Education : 0.39485559566787\n",
      "Board : 0.3835740072202166\n",
      "Educational : 0.3722924187725632\n",
      "Education;Education : 0.33844765342960287\n",
      "Word : 0.2594765342960289\n",
      "Casual;Pretend Play : 0.236913357400722\n",
      "Music : 0.2030685920577617\n",
      "Racing;Action & Adventure : 0.16922382671480143\n",
      "Puzzle;Brain Games : 0.16922382671480143\n",
      "Entertainment;Music & Video : 0.16922382671480143\n",
      "Casual;Brain Games : 0.13537906137184114\n",
      "Casual;Action & Adventure : 0.13537906137184114\n",
      "Arcade;Action & Adventure : 0.12409747292418773\n",
      "Action;Action & Adventure : 0.10153429602888085\n",
      "Educational;Pretend Play : 0.09025270758122744\n",
      "Simulation;Action & Adventure : 0.078971119133574\n",
      "Parenting;Education : 0.078971119133574\n",
      "Entertainment;Brain Games : 0.078971119133574\n",
      "Board;Brain Games : 0.078971119133574\n",
      "Parenting;Music & Video : 0.06768953068592057\n",
      "Educational;Brain Games : 0.06768953068592057\n",
      "Casual;Creativity : 0.06768953068592057\n",
      "Art & Design;Creativity : 0.06768953068592057\n",
      "Education;Pretend Play : 0.056407942238267145\n",
      "Role Playing;Pretend Play : 0.04512635379061372\n",
      "Education;Creativity : 0.04512635379061372\n",
      "Role Playing;Action & Adventure : 0.033844765342960284\n",
      "Puzzle;Action & Adventure : 0.033844765342960284\n",
      "Entertainment;Creativity : 0.033844765342960284\n",
      "Entertainment;Action & Adventure : 0.033844765342960284\n",
      "Educational;Creativity : 0.033844765342960284\n",
      "Educational;Action & Adventure : 0.033844765342960284\n",
      "Education;Music & Video : 0.033844765342960284\n",
      "Education;Brain Games : 0.033844765342960284\n",
      "Education;Action & Adventure : 0.033844765342960284\n",
      "Adventure;Action & Adventure : 0.033844765342960284\n",
      "Video Players & Editors;Music & Video : 0.02256317689530686\n",
      "Sports;Action & Adventure : 0.02256317689530686\n",
      "Simulation;Pretend Play : 0.02256317689530686\n",
      "Puzzle;Creativity : 0.02256317689530686\n",
      "Music;Music & Video : 0.02256317689530686\n",
      "Entertainment;Pretend Play : 0.02256317689530686\n",
      "Casual;Education : 0.02256317689530686\n",
      "Board;Action & Adventure : 0.02256317689530686\n",
      "Video Players & Editors;Creativity : 0.01128158844765343\n",
      "Trivia;Education : 0.01128158844765343\n",
      "Travel & Local;Action & Adventure : 0.01128158844765343\n",
      "Tools;Education : 0.01128158844765343\n",
      "Strategy;Education : 0.01128158844765343\n",
      "Strategy;Creativity : 0.01128158844765343\n",
      "Strategy;Action & Adventure : 0.01128158844765343\n",
      "Simulation;Education : 0.01128158844765343\n",
      "Role Playing;Brain Games : 0.01128158844765343\n",
      "Racing;Pretend Play : 0.01128158844765343\n",
      "Puzzle;Education : 0.01128158844765343\n",
      "Parenting;Brain Games : 0.01128158844765343\n",
      "Music & Audio;Music & Video : 0.01128158844765343\n",
      "Lifestyle;Pretend Play : 0.01128158844765343\n",
      "Lifestyle;Education : 0.01128158844765343\n",
      "Health & Fitness;Education : 0.01128158844765343\n",
      "Health & Fitness;Action & Adventure : 0.01128158844765343\n",
      "Entertainment;Education : 0.01128158844765343\n",
      "Communication;Creativity : 0.01128158844765343\n",
      "Comics;Creativity : 0.01128158844765343\n",
      "Casual;Music & Video : 0.01128158844765343\n",
      "Card;Action & Adventure : 0.01128158844765343\n",
      "Books & Reference;Education : 0.01128158844765343\n",
      "Art & Design;Pretend Play : 0.01128158844765343\n",
      "Art & Design;Action & Adventure : 0.01128158844765343\n",
      "Arcade;Pretend Play : 0.01128158844765343\n",
      "Adventure;Education : 0.01128158844765343\n"
     ]
    }
   ],
   "source": [
    "display_table(googlestore_final, -4)"
   ]
  },
  {
   "cell_type": "markdown",
   "id": "6fdab5ec",
   "metadata": {},
   "source": [
    "Displaying the frequency table of `category` from googlestore_final list."
   ]
  },
  {
   "cell_type": "code",
   "execution_count": 24,
   "id": "1ed0d214",
   "metadata": {
    "scrolled": true
   },
   "outputs": [
    {
     "name": "stdout",
     "output_type": "stream",
     "text": [
      "FAMILY : 18.907942238267147\n",
      "GAME : 9.724729241877256\n",
      "TOOLS : 8.461191335740072\n",
      "BUSINESS : 4.591606498194946\n",
      "LIFESTYLE : 3.9034296028880866\n",
      "PRODUCTIVITY : 3.892148014440433\n",
      "FINANCE : 3.7003610108303246\n",
      "MEDICAL : 3.531137184115524\n",
      "SPORTS : 3.395758122743682\n",
      "PERSONALIZATION : 3.3167870036101084\n",
      "COMMUNICATION : 3.2378158844765346\n",
      "HEALTH_AND_FITNESS : 3.0798736462093865\n",
      "PHOTOGRAPHY : 2.944494584837545\n",
      "NEWS_AND_MAGAZINES : 2.7978339350180503\n",
      "SOCIAL : 2.6624548736462095\n",
      "TRAVEL_AND_LOCAL : 2.33528880866426\n",
      "SHOPPING : 2.2450361010830324\n",
      "BOOKS_AND_REFERENCE : 2.1435018050541514\n",
      "DATING : 1.861462093862816\n",
      "VIDEO_PLAYERS : 1.7937725631768955\n",
      "MAPS_AND_NAVIGATION : 1.3989169675090252\n",
      "FOOD_AND_DRINK : 1.2409747292418771\n",
      "EDUCATION : 1.1620036101083033\n",
      "ENTERTAINMENT : 0.9589350180505415\n",
      "LIBRARIES_AND_DEMO : 0.9363718411552346\n",
      "AUTO_AND_VEHICLES : 0.9250902527075812\n",
      "HOUSE_AND_HOME : 0.8235559566787004\n",
      "WEATHER : 0.8009927797833934\n",
      "EVENTS : 0.7107400722021661\n",
      "PARENTING : 0.6543321299638989\n",
      "ART_AND_DESIGN : 0.6430505415162455\n",
      "COMICS : 0.6204873646209386\n",
      "BEAUTY : 0.5979241877256317\n"
     ]
    }
   ],
   "source": [
    "display_table(googlestore_final, 1)"
   ]
  },
  {
   "cell_type": "markdown",
   "id": "3ac8b7e9",
   "metadata": {},
   "source": [
    ">After analyzing the frequency table of googleplay store apps by `Genre` and `category`, we cannot find any domination of specific genre or category. However, what we can say is that Google Play store has more variety of genres than Apple Store."
   ]
  },
  {
   "cell_type": "markdown",
   "id": "3fdcf0f2",
   "metadata": {},
   "source": [
    "Displaying frequency table of `prime_genre` from applestore_final list."
   ]
  },
  {
   "cell_type": "code",
   "execution_count": 25,
   "id": "d28a7a96",
   "metadata": {},
   "outputs": [
    {
     "name": "stdout",
     "output_type": "stream",
     "text": [
      "Games : 58.16263190564867\n",
      "Entertainment : 7.883302296710118\n",
      "Photo & Video : 4.9658597144630665\n",
      "Education : 3.662321539416512\n",
      "Social Networking : 3.2898820608317814\n",
      "Shopping : 2.60707635009311\n",
      "Utilities : 2.5139664804469275\n",
      "Sports : 2.1415270018621975\n",
      "Music : 2.0484171322160147\n",
      "Health & Fitness : 2.0173805090006205\n",
      "Productivity : 1.7380509000620732\n",
      "Lifestyle : 1.5828677839851024\n",
      "News : 1.3345747982619491\n",
      "Travel : 1.2414649286157666\n",
      "Finance : 1.1173184357541899\n",
      "Weather : 0.8690254500310366\n",
      "Food & Drink : 0.8069522036002483\n",
      "Reference : 0.5586592178770949\n",
      "Business : 0.5276225946617008\n",
      "Book : 0.4345127250155183\n",
      "Navigation : 0.186219739292365\n",
      "Medical : 0.186219739292365\n",
      "Catalogs : 0.12414649286157665\n"
     ]
    }
   ],
   "source": [
    "display_table(applestore_final, -5)"
   ]
  },
  {
   "cell_type": "markdown",
   "id": "e8704771",
   "metadata": {},
   "source": [
    "> After analyzing the `prime_genre` frequency table of Apple Store, we can conclude that **Gaming Apps** dominate the Apple Store with approximately 58%. "
   ]
  },
  {
   "cell_type": "markdown",
   "id": "7ac1d73d",
   "metadata": {},
   "source": [
    "## Most Common Genre of the Apps by User Ratings"
   ]
  },
  {
   "cell_type": "markdown",
   "id": "7febd914",
   "metadata": {},
   "source": [
    "Displaying the average of user_rating against the genre from applestore_final list."
   ]
  },
  {
   "cell_type": "code",
   "execution_count": 26,
   "id": "b1d631d7",
   "metadata": {},
   "outputs": [
    {
     "name": "stdout",
     "output_type": "stream",
     "text": [
      "Social Networking : 71548.34905660378\n",
      "Photo & Video : 28441.54375\n",
      "Games : 22788.6696905016\n",
      "Music : 57326.530303030304\n",
      "Reference : 74942.11111111111\n",
      "Health & Fitness : 23298.015384615384\n",
      "Weather : 52279.892857142855\n",
      "Utilities : 18684.456790123455\n",
      "Travel : 28243.8\n",
      "Shopping : 26919.690476190477\n",
      "News : 21248.023255813954\n",
      "Navigation : 86090.33333333333\n",
      "Lifestyle : 16485.764705882353\n",
      "Entertainment : 14029.830708661417\n",
      "Food & Drink : 33333.92307692308\n",
      "Sports : 23008.898550724636\n",
      "Book : 39758.5\n",
      "Finance : 31467.944444444445\n",
      "Education : 7003.983050847458\n",
      "Productivity : 21028.410714285714\n",
      "Business : 7491.117647058823\n",
      "Catalogs : 4004.0\n",
      "Medical : 612.0\n"
     ]
    }
   ],
   "source": [
    "prime_genre_freq = freq_table(applestore_final, -5)\n",
    "\n",
    "#print(prime_genre_freq)\n",
    "\n",
    "for genre in prime_genre_freq:\n",
    "    total = 0\n",
    "    len_genre = 0\n",
    "    \n",
    "    for row in applestore_final:\n",
    "        genre_app = row[-5]\n",
    "        if genre_app == genre:\n",
    "            user_ratings = float(row[5])\n",
    "            total += user_ratings\n",
    "            len_genre += 1\n",
    "    Average = total / len_genre\n",
    "    print(genre,':', Average)"
   ]
  },
  {
   "cell_type": "markdown",
   "id": "800810f6",
   "metadata": {},
   "source": [
    "> After looking at the results we can conclude that the most popular apps on applestore are of **Navigation** `Genre` with average user_rating of approximately **86000**."
   ]
  },
  {
   "cell_type": "code",
   "execution_count": 27,
   "id": "ccd16439",
   "metadata": {},
   "outputs": [
    {
     "name": "stdout",
     "output_type": "stream",
     "text": [
      "ART_AND_DESIGN : 1986335.0877192982\n",
      "AUTO_AND_VEHICLES : 647317.8170731707\n",
      "BEAUTY : 513151.88679245283\n",
      "BOOKS_AND_REFERENCE : 8767811.894736841\n",
      "BUSINESS : 1712290.1474201474\n",
      "COMICS : 817657.2727272727\n",
      "COMMUNICATION : 38456119.167247385\n",
      "DATING : 854028.8303030303\n",
      "EDUCATION : 1833495.145631068\n",
      "ENTERTAINMENT : 11640705.88235294\n",
      "EVENTS : 253542.22222222222\n",
      "FINANCE : 1387692.475609756\n",
      "FOOD_AND_DRINK : 1924897.7363636363\n",
      "HEALTH_AND_FITNESS : 4188821.9853479853\n",
      "HOUSE_AND_HOME : 1331540.5616438356\n",
      "LIBRARIES_AND_DEMO : 638503.734939759\n",
      "LIFESTYLE : 1437816.2687861272\n",
      "GAME : 15588015.603248259\n",
      "FAMILY : 3695641.8198090694\n",
      "MEDICAL : 120550.61980830671\n",
      "SOCIAL : 23253652.127118643\n",
      "SHOPPING : 7036877.311557789\n",
      "PHOTOGRAPHY : 17840110.40229885\n",
      "SPORTS : 3638640.1428571427\n",
      "TRAVEL_AND_LOCAL : 13984077.710144928\n",
      "TOOLS : 10801391.298666667\n",
      "PERSONALIZATION : 5201482.6122448975\n",
      "PRODUCTIVITY : 16787331.344927534\n",
      "PARENTING : 542603.6206896552\n",
      "WEATHER : 5074486.197183099\n",
      "VIDEO_PLAYERS : 24727872.452830188\n",
      "NEWS_AND_MAGAZINES : 9549178.467741935\n",
      "MAPS_AND_NAVIGATION : 4056941.7741935486\n"
     ]
    }
   ],
   "source": [
    "category_freq = freq_table(googlestore_final,1)\n",
    "\n",
    "for category in category_freq:\n",
    "    total = 0\n",
    "    len_category = 0\n",
    "    \n",
    "    for row in googlestore_final:\n",
    "        category_app = row[1]\n",
    "        if category_app == category:\n",
    "            n_installs = row[5]\n",
    "            n_installs = n_installs.replace('+','')\n",
    "            n_installs = n_installs.replace(',','')\n",
    "            n_installs = float(n_installs)\n",
    "            total += n_installs\n",
    "            len_category += 1\n",
    "    average = total / len_category\n",
    "    print(category,':', average)"
   ]
  },
  {
   "cell_type": "markdown",
   "id": "f8d168e6",
   "metadata": {},
   "source": [
    "After analyzing the results of `n_installs` of the apps on Google Play Store, we find that **Communication** apps are having highest installs of **3,84,56,119**."
   ]
  }
 ],
 "metadata": {
  "kernelspec": {
   "display_name": "Python 3 (ipykernel)",
   "language": "python",
   "name": "python3"
  },
  "language_info": {
   "codemirror_mode": {
    "name": "ipython",
    "version": 3
   },
   "file_extension": ".py",
   "mimetype": "text/x-python",
   "name": "python",
   "nbconvert_exporter": "python",
   "pygments_lexer": "ipython3",
   "version": "3.9.12"
  }
 },
 "nbformat": 4,
 "nbformat_minor": 5
}
